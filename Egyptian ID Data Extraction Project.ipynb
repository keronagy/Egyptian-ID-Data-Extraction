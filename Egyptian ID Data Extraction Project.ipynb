{
 "cells": [
  {
   "cell_type": "markdown",
   "metadata": {},
   "source": [
    "# Egyptian ID Data Exectraction"
   ]
  },
  {
   "cell_type": "markdown",
   "metadata": {},
   "source": [
    "## 1-Imports:"
   ]
  },
  {
   "cell_type": "code",
   "execution_count": null,
   "metadata": {},
   "outputs": [],
   "source": [
    "# import the necessary packages\n",
    "import numpy as np\n",
    "import cv2\n",
    "import imutils\n",
    "from PIL import Image\n",
    "import pytesseract\n",
    "import os\n",
    "import matplotlib.pyplot as plt\n",
    "\n",
    "pytesseract.pytesseract.tesseract_cmd = r'C:\\Program Files\\Tesseract-OCR\\tesseract.exe'"
   ]
  },
  {
   "cell_type": "markdown",
   "metadata": {},
   "source": [
    "## 2-Function to View Images:"
   ]
  },
  {
   "cell_type": "code",
   "execution_count": null,
   "metadata": {},
   "outputs": [],
   "source": [
    "def view_imgs(imgs, cols=4, type = 'RGB'):\n",
    "    \"\"\" this function to show a dictionary of imgs using subplot \"\"\"\n",
    "    \n",
    "    rows = np.ceil(len(imgs)/cols)\n",
    "    width = len(imgs) * imgs[list(imgs)[0]].shape[1]\n",
    "    height = len(imgs) * imgs[list(imgs)[0]].shape[0]\n",
    "    figsize = width/100, height/100\n",
    "    plt.figure(figsize= figsize)\n",
    "    \n",
    "    for i, j in enumerate(imgs):\n",
    "        title = j\n",
    "        img = imgs[j]\n",
    "        camp = None\n",
    "         \n",
    "        if len(img.shape) < 3:\n",
    "            camp = 'gray'\n",
    "        elif type == 'BGR':\n",
    "            img = cv2.cvtColor(img, cv2.COLOR_BGR2RGB)\n",
    "        \n",
    "        plt.subplot(rows, cols, i+1)\n",
    "        plt.imshow(img,cmap=camp)\n",
    "        plt.title(title)\n",
    "        \n",
    "    plt.tight_layout(pad=0, h_pad=0, w_pad=0)\n",
    "    plt.show()"
   ]
  },
  {
   "cell_type": "markdown",
   "metadata": {},
   "source": [
    "## 3- Order Point Function:"
   ]
  },
  {
   "cell_type": "code",
   "execution_count": null,
   "metadata": {},
   "outputs": [],
   "source": [
    "def order_points(pts):\n",
    "    # initialzie a list of coordinates that will be ordered\n",
    "    # such that the first entry in the list is the top-left,\n",
    "    # the second entry is the top-right, the third is the\n",
    "    # bottom-right, and the fourth is the bottom-left\n",
    "    rect = np.zeros((4, 2), dtype = \"float32\")\n",
    "\n",
    "    # the top-left point will have the smallest sum, whereas\n",
    "    # the bottom-right point will have the largest sum\n",
    "    s = pts.sum(axis = 1)\n",
    "    rect[0] = pts[np.argmin(s)]\n",
    "    rect[2] = pts[np.argmax(s)]\n",
    "\n",
    "    # now, compute the difference between the points, the\n",
    "    # top-right point will have the smallest difference,\n",
    "    # whereas the bottom-left will have the largest difference\n",
    "    diff = np.diff(pts, axis = 1)\n",
    "    rect[1] = pts[np.argmin(diff)]\n",
    "    rect[3] = pts[np.argmax(diff)]\n",
    "\n",
    "    # return the ordered coordinates\n",
    "    return rect"
   ]
  },
  {
   "cell_type": "markdown",
   "metadata": {},
   "source": [
    "## 4- Four Point Transform Function:"
   ]
  },
  {
   "cell_type": "code",
   "execution_count": null,
   "metadata": {},
   "outputs": [],
   "source": [
    "def four_point_transform(image, pts):\n",
    "    # obtain a consistent order of the points and unpack them\n",
    "    # individually\n",
    "    rect = order_points(pts)\n",
    "    (tl, tr, br, bl) = rect\n",
    "\n",
    "    # compute the width of the new image, which will be the\n",
    "    # maximum distance between bottom-right and bottom-left\n",
    "    # x-coordiates or the top-right and top-left x-coordinates\n",
    "    widthA = np.sqrt(((br[0] - bl[0]) ** 2) + ((br[1] - bl[1]) ** 2))\n",
    "    widthB = np.sqrt(((tr[0] - tl[0]) ** 2) + ((tr[1] - tl[1]) ** 2))\n",
    "    maxWidth = max(int(widthA), int(widthB))\n",
    "\n",
    "    # compute the height of the new image, which will be the\n",
    "    # maximum distance between the top-right and bottom-right\n",
    "    # y-coordinates or the top-left and bottom-left y-coordinates\n",
    "    heightA = np.sqrt(((tr[0] - br[0]) ** 2) + ((tr[1] - br[1]) ** 2))\n",
    "    heightB = np.sqrt(((tl[0] - bl[0]) ** 2) + ((tl[1] - bl[1]) ** 2))\n",
    "    maxHeight = max(int(heightA), int(heightB))\n",
    "\n",
    "    # now that we have the dimensions of the new image, construct\n",
    "    # the set of destination points to obtain a \"birds eye view\",\n",
    "    # (i.e. top-down view) of the image, again specifying points\n",
    "    # in the top-left, top-right, bottom-right, and bottom-left\n",
    "    # order\n",
    "    dst = np.array([\n",
    "        [0, 0],\n",
    "        [maxWidth - 1, 0],\n",
    "        [maxWidth - 1, maxHeight - 1],\n",
    "        [0, maxHeight - 1]], dtype = \"float32\")\n",
    "\n",
    "    # compute the perspective transform matrix and then apply it\n",
    "    M = cv2.getPerspectiveTransform(rect, dst)\n",
    "    warped = cv2.warpPerspective(image, M, (maxWidth, maxHeight))\n",
    "\n",
    "    # return the warped image\n",
    "    return warped\n"
   ]
  },
  {
   "cell_type": "markdown",
   "metadata": {},
   "source": [
    "## 5-Scan ID Function:"
   ]
  },
  {
   "cell_type": "code",
   "execution_count": null,
   "metadata": {},
   "outputs": [],
   "source": [
    "def scan_ID(image):\n",
    "    # load the image and compute the ratio of the old height\n",
    "    # to the new height, clone it, and resize it \n",
    "    ratio = image.shape[0] / 500.0\n",
    "    orig = image.copy()\n",
    "    image = imutils.resize(image, height = 500)\n",
    "\n",
    "    # convert the image to grayscale, blur it, and find edges\n",
    "    # in the image\n",
    "    gray = cv2.cvtColor(image, cv2.COLOR_BGR2GRAY)\n",
    "    gray = cv2.GaussianBlur(gray, (5, 5), 0)\n",
    "    edged = cv2.Canny(gray, 31, 0)\n",
    "\n",
    "    # show the original image and the edge detected image\n",
    "    print(\"STEP 1: Edge Detection\")\n",
    "\n",
    "\n",
    "    # find the contours in the edged image, keeping only the\n",
    "    # largest ones, and initialize the screen contour\n",
    "    cnts = cv2.findContours(edged.copy(), cv2.RETR_LIST, cv2.CHAIN_APPROX_SIMPLE)\n",
    "    cnts = imutils.grab_contours(cnts)\n",
    "    cnts = sorted(cnts, key = cv2.contourArea, reverse = True)[:5]\n",
    "\n",
    "    # loop over the contours\n",
    "    for c in cnts:\n",
    "        # approximate the contour\n",
    "        peri = cv2.arcLength(c, True)\n",
    "        approx = cv2.approxPolyDP(c, 0.02 * peri, True)\n",
    "\n",
    "        # if our approximated contour has four points, then we\n",
    "        # can assume that we have found our screen\n",
    "        if len(approx) == 4:\n",
    "            screenCnt = approx\n",
    "            break\n",
    "#         else:\n",
    "#             print(\"Cannot find 4 edges\")\n",
    "            \n",
    "    # show the contour (outline) of the piece of paper\n",
    "    print(\"STEP 2: Find contours of paper\")\n",
    "    cv2.drawContours(image, [screenCnt], -1, (0, 255, 0), 2)\n",
    "    image_contour=imutils.resize(image, height = 350)\n",
    "\n",
    "\n",
    "    # apply the four point transform to obtain a top-down\n",
    "    # view of the original image\n",
    "    warped = four_point_transform(orig, screenCnt.reshape(4, 2) * ratio)\n",
    "    image_Trasform=imutils.resize(warped, height = 350)\n",
    "\n",
    "    # convert the warped image to grayscale, then threshold it\n",
    "    # to give it that 'black and white' paper effect\n",
    "    warped = cv2.cvtColor(warped, cv2.COLOR_BGR2GRAY)\n",
    "    image_Tgraym=imutils.resize(warped, height = 350)\n",
    "\n",
    "    val, dst = cv2.threshold(warped,70,255,cv2.THRESH_BINARY)\n",
    "    orig=imutils.resize(orig, height = 350)\n",
    "    dst=imutils.resize(dst, height = 350)\n",
    "    # show the original and scanned images\n",
    "    print(\"STEP 3: Apply perspective transform\")\n",
    "\n",
    "    return edged,image_contour,image_Trasform,image_Tgraym,dst\n"
   ]
  },
  {
   "cell_type": "markdown",
   "metadata": {},
   "source": [
    "## 6- Extract Text from ID Function:"
   ]
  },
  {
   "cell_type": "code",
   "execution_count": null,
   "metadata": {},
   "outputs": [],
   "source": [
    "def extract_Text(warped):\n",
    "    height,width = warped.shape[:2]\n",
    "    h = int(height/4) + 5\n",
    "    w=int(width/4)\n",
    "    image1=warped.copy()\n",
    "    strs = [\"\" for x in range(4)]\n",
    "    for i in range(1,4):\n",
    "        if (i==1):\n",
    "            image = image1[h*i-10:h*(i+1)-15,w:w*4]\n",
    "            img_name=image.copy()\n",
    "            text = pytesseract.image_to_string(image,lang='ara')\n",
    "            strs[i-1] = text\n",
    "\n",
    "        elif (i==2):\n",
    "            image = image1[h*i-20:h*(i+1)-25,w-2:w*4]\n",
    "            img_add=image.copy()\n",
    "            text = pytesseract.image_to_string(image,lang='ara_combined')\n",
    "            strs[i-1] = text\n",
    "\n",
    "        elif (i==3):\n",
    "            image = image1[h*i-15:h*(i+1)-45,int(w*0.43):w*4]\n",
    "            img_ID= image.copy()\n",
    "            text = pytesseract.image_to_string(image,lang='ara_number')\n",
    "            strs[i-1] = text\n",
    "    print(\"Name : \" + strs[0])\n",
    "    print(\"Address : \" + strs[1])\n",
    "    print(\"NID : \" + strs[2])\n",
    "    return img_name,img_add,img_ID"
   ]
  },
  {
   "cell_type": "markdown",
   "metadata": {},
   "source": [
    "## Read Image:"
   ]
  },
  {
   "cell_type": "code",
   "execution_count": null,
   "metadata": {
    "scrolled": true
   },
   "outputs": [],
   "source": [
    "image = cv2.imread(\"5.jpg\")\n",
    "edged,image_contour,image_Trasform,image_Tgraym,dst= scan_ID(image)\n",
    "img_dict={\"Image\":image,\"Edged\":edged,\"Contour Output\":image_contour,\"Trasform Output\":image_Trasform,\"Gray Output\":image_Tgraym,\"Scanned\":dst}\n",
    "view_imgs(img_dict, 2, type ='BGR')"
   ]
  },
  {
   "cell_type": "markdown",
   "metadata": {},
   "source": [
    "## Extract Text:"
   ]
  },
  {
   "cell_type": "code",
   "execution_count": null,
   "metadata": {
    "scrolled": true
   },
   "outputs": [],
   "source": [
    "img_name,img_add,img_ID=extract_Text(dst)\n",
    "img_dict={\"Name\":img_name,\"Address\":img_add,\"NID\":img_ID}\n",
    "view_imgs(img_dict, 2, type ='BGR')"
   ]
  },
  {
   "cell_type": "code",
   "execution_count": null,
   "metadata": {},
   "outputs": [],
   "source": []
  }
 ],
 "metadata": {
  "kernelspec": {
   "display_name": "TensorFlow-GPU",
   "language": "python",
   "name": "tf-gpu"
  },
  "language_info": {
   "codemirror_mode": {
    "name": "ipython",
    "version": 3
   },
   "file_extension": ".py",
   "mimetype": "text/x-python",
   "name": "python",
   "nbconvert_exporter": "python",
   "pygments_lexer": "ipython3",
   "version": "3.6.7"
  }
 },
 "nbformat": 4,
 "nbformat_minor": 2
}
